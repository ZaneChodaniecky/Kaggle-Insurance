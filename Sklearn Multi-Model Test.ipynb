{
 "cells": [
  {
   "cell_type": "code",
   "execution_count": 1,
   "id": "7018d5cf",
   "metadata": {},
   "outputs": [],
   "source": [
    "# Use with NHL_Model_Data_Transform_v5.py\n",
    "import pandas as pd\n",
    "import numpy as np\n",
    "import seaborn as sns\n",
    "import os\n",
    "\n",
    "import matplotlib.pyplot as plt\n",
    "\n",
    "rng = 69"
   ]
  },
  {
   "cell_type": "code",
   "execution_count": 2,
   "id": "d57c8e42",
   "metadata": {},
   "outputs": [],
   "source": [
    "df = pd.read_csv(r\"C:\\Users\\zchodan\\OneDrive - Franklin Templeton\\Documents\\Python\\Kaggle\\Insurance Premiums\\Transformed.csv\")\n",
    "#df = pd.read_csv(r\"C:\\Users\\zanec\\OneDrive\\Documents\\Python\\NHL_data\\NHL_Data_Transformed_PCA - Test v1.csv\")"
   ]
  },
  {
   "cell_type": "code",
   "execution_count": null,
   "id": "51f8fc80",
   "metadata": {},
   "outputs": [],
   "source": []
  },
  {
   "cell_type": "code",
   "execution_count": 3,
   "id": "0e1164bd",
   "metadata": {},
   "outputs": [],
   "source": [
    "from sklearn.model_selection import train_test_split\n",
    "\n",
    "# Split into 80% training data and 20% testing data\n",
    "train_set, test_set = train_test_split(df, test_size=0.2, random_state=rng)\n",
    "\n",
    "\n",
    "X_train = train_set.drop('Premium Amount', axis=1)\n",
    "Y_train = train_set['Premium Amount'].copy()\n",
    "Y_log_train = np.log1p(Y_train)\n",
    "\n",
    "X_valid = train_set.drop('Premium Amount', axis=1)\n",
    "Y_valid = train_set['Premium Amount'].copy()\n",
    "Y_log_valid = np.log1p(Y_valid)\n",
    "\n",
    "X_test = test_set.drop('Premium Amount', axis=1)\n",
    "Y_test = test_set['Premium Amount'].copy()\n",
    "Y_log_test = np.log1p(Y_test)\n",
    "\n",
    "df_Final = df.drop('Premium Amount', axis=1)"
   ]
  },
  {
   "cell_type": "code",
   "execution_count": null,
   "id": "52cd5836-cd87-4921-b2ab-b66d979b9e49",
   "metadata": {},
   "outputs": [],
   "source": []
  },
  {
   "cell_type": "code",
   "execution_count": 4,
   "id": "22fb5d7b",
   "metadata": {},
   "outputs": [],
   "source": [
    "# Pipeline constructor used to run transformation steps in order\n",
    "from sklearn.pipeline import Pipeline\n",
    "from sklearn.preprocessing import StandardScaler\n",
    "\n",
    "num_pipeline = Pipeline([\n",
    "    ('std_scaler', StandardScaler()),\n",
    "])\n",
    "\n",
    "X_train_prepared= num_pipeline.fit_transform(X_train)\n",
    "X_valid_prepared= num_pipeline.fit_transform(X_valid)\n",
    "X_test_prepared= num_pipeline.fit_transform(X_test)\n"
   ]
  },
  {
   "cell_type": "code",
   "execution_count": null,
   "id": "e30905c0",
   "metadata": {},
   "outputs": [],
   "source": []
  },
  {
   "cell_type": "code",
   "execution_count": 5,
   "id": "1d484ee7",
   "metadata": {},
   "outputs": [],
   "source": [
    "# Fine Tune the hyperparameters of RandomForest model\n",
    "# from sklearn.model_selection import GridSearchCV\n",
    "\n",
    "# param_grid = [{'n_estimators' : [100,500,1000], 'max_leaf_nodes': [10,16,25,50], 'n_jobs' : [-1]},\n",
    "#               {'bootstrap': [False], 'n_estimators' : [100,500,1000], 'max_leaf_nodes': [10,16,25,50], 'n_jobs' : [-1]},]\n",
    "\n",
    "# rnd_clf_test = RandomForestClassifier()\n",
    "\n",
    "# grid_search = GridSearchCV(rnd_clf_test, param_grid, cv=5, scoring='neg_mean_squared_error', return_train_score=True)\n",
    "\n",
    "# grid_search.fit(nhl_prepared,nhl_labels)\n",
    "\n",
    "# grid_search.best_params_"
   ]
  },
  {
   "cell_type": "code",
   "execution_count": 6,
   "id": "768b310d",
   "metadata": {},
   "outputs": [],
   "source": [
    "# cvres = grid_search.cv_results_\n",
    "# results = []\n",
    "# for mean_scores, params in zip(cvres[\"mean_test_score\"], cvres[\"params\"]):\n",
    "#     results.append([np.sqrt(-mean_scores),params])\n",
    "\n",
    "# results2 = sorted(results, key=lambda x: x[0])\n",
    "# print(*results2, sep = '\\n')"
   ]
  },
  {
   "cell_type": "code",
   "execution_count": 7,
   "id": "3ec8c20c",
   "metadata": {},
   "outputs": [],
   "source": [
    "models = {}\n",
    "\n",
    "#Linear Regression\n",
    "from sklearn.linear_model import LinearRegression\n",
    "models['Linear Regression'] = LinearRegression()\n",
    "\n",
    "# # Support Vector Machines\n",
    "# from sklearn.svm import SVR\n",
    "# models['Support Vector Machines'] = SVR(kernel='rbf')\n",
    "\n",
    "# # Decision Trees\n",
    "# from sklearn.tree import DecisionTreeClassifier\n",
    "# models['Decision Trees'] = DecisionTreeClassifier()\n",
    "\n",
    "# # Random Forest\n",
    "# from sklearn.ensemble import RandomForestClassifier\n",
    "# models['Random Forest'] = RandomForestClassifier()\n",
    "\n",
    "# # K-Nearest Neighbors\n",
    "# from sklearn.neighbors import KNeighborsRegressor\n",
    "# models['K-Nearest Neighbor'] = KNeighborsRegressor()\n",
    "\n",
    "# # Bagging Decision Tree\n",
    "# from sklearn.ensemble import BaggingClassifier\n",
    "# from sklearn.tree import DecisionTreeClassifier\n",
    "# models['Bagging Decision Tree'] =  BaggingClassifier(DecisionTreeClassifier())\n",
    "\n",
    "# # Extra Random Forest\n",
    "# from sklearn.ensemble import ExtraTreesClassifier\n",
    "# models['Extra Random Forest'] = ExtraTreesClassifier()\n",
    "\n",
    "# # Gradient Boosting\n",
    "# from sklearn.ensemble import GradientBoostingRegressor\n",
    "# models['Gradient Boosting'] = GradientBoostingRegressor()\n",
    "\n",
    "# XG Boost\n",
    "from xgboost import XGBRegressor\n",
    "models['XG Boost'] = XGBRegressor()\n",
    "\n",
    "# # ADA Boost\n",
    "# from sklearn.ensemble import AdaBoostClassifier\n",
    "# from sklearn.tree import DecisionTreeClassifier\n",
    "# models['ADA Boost'] = AdaBoostClassifier(DecisionTreeClassifier())\n",
    "\n",
    "# Baysian Regression\n",
    "from sklearn.linear_model import BayesianRidge\n",
    "models['Bayesian Regression'] = BayesianRidge()"
   ]
  },
  {
   "cell_type": "code",
   "execution_count": 8,
   "id": "f105dbe2",
   "metadata": {},
   "outputs": [],
   "source": [
    "from sklearn.metrics import mean_squared_log_error\n",
    "import numpy as np\n",
    "\n",
    "# Initialize a dictionary to store MSE for each model\n",
    "rmsle_scores = {}\n",
    "\n",
    "for key in models.keys():\n",
    "    \n",
    "    if key == \"Linear Regression\":\n",
    "        # Fit the model\n",
    "        models[key].fit(X_train_prepared, Y_log_train) \n",
    "        # Make predictions\n",
    "        Y_log_pred = models[key].predict(X_test_prepared)  \n",
    "        # Inverse transform predictions to the original scale (exponentiate)\n",
    "        Y_pred_original = np.expm1(Y_log_pred)  # Inverse of log transformation  \n",
    "        # Calculate MSE for this model\n",
    "        rmsle_scores[key] = np.sqrt(mean_squared_log_error(Y_test, Y_pred_original)) \n",
    "    else:\n",
    "        models[key].fit(X_train_prepared, Y_train)\n",
    "        Y_pred = models[key].predict(X_test_prepared)\n",
    "        # Shift the data to ensure non-negative values\n",
    "        shift_value = abs(min(Y_test.min(), Y_pred.min())) + 1  # Adding 1 ensures all values are positive\n",
    "        \n",
    "        # Apply the transformation\n",
    "        Y_pred_shifted = Y_pred + shift_value\n",
    "        rmsle_scores[key] = np.sqrt(mean_squared_log_error(Y_test, Y_pred_shifted)) "
   ]
  },
  {
   "cell_type": "code",
   "execution_count": 9,
   "id": "1bb8c42d",
   "metadata": {},
   "outputs": [
    {
     "data": {
      "text/html": [
       "<div>\n",
       "<style scoped>\n",
       "    .dataframe tbody tr th:only-of-type {\n",
       "        vertical-align: middle;\n",
       "    }\n",
       "\n",
       "    .dataframe tbody tr th {\n",
       "        vertical-align: top;\n",
       "    }\n",
       "\n",
       "    .dataframe thead th {\n",
       "        text-align: right;\n",
       "    }\n",
       "</style>\n",
       "<table border=\"1\" class=\"dataframe\">\n",
       "  <thead>\n",
       "    <tr style=\"text-align: right;\">\n",
       "      <th></th>\n",
       "      <th>RMSLE</th>\n",
       "    </tr>\n",
       "  </thead>\n",
       "  <tbody>\n",
       "    <tr>\n",
       "      <th>Linear Regression</th>\n",
       "      <td>1.254449</td>\n",
       "    </tr>\n",
       "    <tr>\n",
       "      <th>XG Boost</th>\n",
       "      <td>1.373155</td>\n",
       "    </tr>\n",
       "    <tr>\n",
       "      <th>Bayesian Regression</th>\n",
       "      <td>1.369023</td>\n",
       "    </tr>\n",
       "  </tbody>\n",
       "</table>\n",
       "</div>"
      ],
      "text/plain": [
       "                        RMSLE\n",
       "Linear Regression    1.254449\n",
       "XG Boost             1.373155\n",
       "Bayesian Regression  1.369023"
      ]
     },
     "execution_count": 9,
     "metadata": {},
     "output_type": "execute_result"
    }
   ],
   "source": [
    "import pandas as pd\n",
    "\n",
    "df_model = pd.DataFrame(index=models.keys(), columns=['RMSLE'])\n",
    "df_model['RMSLE'] = rmsle_scores.values()\n",
    "\n",
    "df_model"
   ]
  },
  {
   "cell_type": "code",
   "execution_count": null,
   "id": "817f9f22",
   "metadata": {},
   "outputs": [],
   "source": []
  },
  {
   "cell_type": "code",
   "execution_count": null,
   "id": "e90cecc8",
   "metadata": {},
   "outputs": [],
   "source": []
  },
  {
   "cell_type": "code",
   "execution_count": null,
   "id": "fda17e6f",
   "metadata": {},
   "outputs": [],
   "source": []
  },
  {
   "cell_type": "code",
   "execution_count": null,
   "id": "9bdade10",
   "metadata": {},
   "outputs": [],
   "source": []
  },
  {
   "cell_type": "code",
   "execution_count": null,
   "id": "3ed74f05",
   "metadata": {},
   "outputs": [],
   "source": []
  },
  {
   "cell_type": "code",
   "execution_count": null,
   "id": "eae8d63d",
   "metadata": {},
   "outputs": [],
   "source": []
  },
  {
   "cell_type": "code",
   "execution_count": null,
   "id": "c91ad2d2",
   "metadata": {},
   "outputs": [],
   "source": []
  },
  {
   "cell_type": "code",
   "execution_count": null,
   "id": "1818ef65",
   "metadata": {},
   "outputs": [],
   "source": []
  }
 ],
 "metadata": {
  "kernelspec": {
   "display_name": "Python 3 (ipykernel)",
   "language": "python",
   "name": "python3"
  },
  "language_info": {
   "codemirror_mode": {
    "name": "ipython",
    "version": 3
   },
   "file_extension": ".py",
   "mimetype": "text/x-python",
   "name": "python",
   "nbconvert_exporter": "python",
   "pygments_lexer": "ipython3",
   "version": "3.12.4"
  }
 },
 "nbformat": 4,
 "nbformat_minor": 5
}
